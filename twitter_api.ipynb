{
 "cells": [
  {
   "cell_type": "code",
   "execution_count": 1,
   "metadata": {},
   "outputs": [],
   "source": [
    "import os\n",
    "import tweepy"
   ]
  },
  {
   "cell_type": "code",
   "execution_count": 8,
   "metadata": {},
   "outputs": [],
   "source": [
    "consumer_key = \"2m4a8CgpeC0Rf4UD9t340dHst\"\n",
    "consumer_secret = 'wif7RxvwntcF0hovHKpN1kvazhtczswqEiSj3UWt1aG1j6Dcxp'\n",
    "access_token = '364920046-qAidxQ4J2ElxjK3qzIBJREr1LjFVWM88EJfV9Vll'\n",
    "access_secret = \"etrGvUlTsKeCc1dBomBhUqiRyZjmtMPmlGjf5hY4E7aeM\""
   ]
  },
  {
   "cell_type": "code",
   "execution_count": 9,
   "metadata": {},
   "outputs": [],
   "source": [
    "auth = tweepy.OAuthHandler(consumer_key, consumer_secret)\n",
    "auth.set_access_token(access_token, access_secret)\n",
    "api = tweepy.API(auth, wait_on_rate_limit=True)"
   ]
  },
  {
   "cell_type": "code",
   "execution_count": 36,
   "metadata": {},
   "outputs": [
    {
     "data": {
      "text/plain": [
       "'http://pbs.twimg.com/profile_images/1217104068792832001/hBuuXf5L_normal.jpg'"
      ]
     },
     "execution_count": 36,
     "metadata": {},
     "output_type": "execute_result"
    }
   ],
   "source": [
    "# icon\n",
    "user = api.get_user(screen_name=\"unpuy_tw\")\n",
    "user.profile_image_url"
   ]
  },
  {
   "cell_type": "code",
   "execution_count": 39,
   "metadata": {},
   "outputs": [
    {
     "name": "stdout",
     "output_type": "stream",
     "text": [
      "学生時代にプログラミングのバイトしとけばなという思い\n",
      "ソケットの気持ちが0.1%くらい分かった\n",
      "アンバランスのMV初めて見たけどめっちゃいいな\n",
      "twitterのAPIでアイコン取得できそう。機械学習とかいうやつでアイコン生成したい。\n",
      "https://t.co/ygVivvP3tM\n",
      "@tommi____ とみたさんは今何やってるんです？\n",
      "RT @fetarodc: とつぶやいた後、軽く調べたらpandas-schemaってツールが有るなあ。これでバリデーションはできそう。あとはIDEで補完がきけば最高なのだが。　https://t.co/wNK7ZpVx52\n",
      "最近文章処理能力が落ちてる気がするんだよなあ\n",
      "みんながもっと転職してくれれば自分ももっと転職しやすくなる\n",
      "RT @otsuka0752: 良い記事。無能と思われたら、辛いと感じたら、つまらなかったら、職場を変えたら良いよ。同じことを同じようにやっても、職場によって評価は全然変わる。\n",
      "\n",
      "https://t.co/pS2B88gOcq\n",
      "最近全然ブログ更新してなかった気もしたけど、実は月1本のペースでは書けてたのか\n",
      "fuzkueそろそろ行きたい\n",
      "ちょっと勉強した後に自分でゼロから作ると勉強になる\n",
      "はてなブログのブックマーク数を予測するwebアプリを作った話を書きました\n",
      "はてなブログのブックマーク数を予測するwebアプリを作った - sola\n",
      "https://t.co/gGDxKMhf9B\n",
      "サイバーエージェントのグループ会社決算を全82社分まとめてみた（2019年9月期） - 東京都立　戯言学園 https://t.co/mIPtPGW0wq\n",
      "過去のつぶやきのイメージからアイコン作成依頼できるサービスって無いのかな、もしくはそういう人\n",
      "どうだろ\n",
      "https://t.co/37MtpdO7in\n",
      "そうだったのか\n",
      "Everything you ever wanted to know about unfurling but were afraid to ask /or/ How to make your… by… https://t.co/guNQf4JlNk\n",
      "@nnkkmto 奥ゆかしさを大事にしてるからね。まあブログにまとめるつもりではあるけど。\n",
      "@nnkkmto もうばななじゃないけど、そうだね\n",
      "なるほどね\n",
      "https://t.co/37MtpdO7in\n"
     ]
    }
   ],
   "source": [
    "# つぶやき\n",
    "tweets = api.user_timeline(screen_name=\"unpuy_tw\")\n",
    "for tweet in tweets:\n",
    "    print(tweet.text)"
   ]
  }
 ],
 "metadata": {
  "kernelspec": {
   "display_name": "Python 3",
   "language": "python",
   "name": "python3"
  },
  "language_info": {
   "codemirror_mode": {
    "name": "ipython",
    "version": 3
   },
   "file_extension": ".py",
   "mimetype": "text/x-python",
   "name": "python",
   "nbconvert_exporter": "python",
   "pygments_lexer": "ipython3",
   "version": "3.8.0"
  }
 },
 "nbformat": 4,
 "nbformat_minor": 4
}
