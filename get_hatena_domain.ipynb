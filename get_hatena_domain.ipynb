{
 "cells": [
  {
   "cell_type": "code",
   "execution_count": 1,
   "metadata": {},
   "outputs": [],
   "source": [
    "import requests\n",
    "import bs4\n",
    "import json\n",
    "import html2text\n",
    "import re\n",
    "import math\n",
    "import pandas as pd\n",
    "from urllib.parse import urlparse"
   ]
  },
  {
   "cell_type": "code",
   "execution_count": 3,
   "metadata": {},
   "outputs": [],
   "source": [
    "hotentries = [tags.find(\"link\").get_text() for tags in hotentry_soup.find_all(\"item\")]"
   ]
  },
  {
   "cell_type": "code",
   "execution_count": 4,
   "metadata": {},
   "outputs": [],
   "source": [
    "entry_info_endpoint = \"https://b.hatena.ne.jp/entry/jsonlite\"\n",
    "\n",
    "bookmark_users = []\n",
    "for hotentry in hotentries:\n",
    "    entry_info = json.loads(requests.get(f\"{entry_info_endpoint}/?url={hotentry}\").content.decode(\"utf-8\"))\n",
    "    bookmark_users.extend([bookmark[\"user\"] for bookmark in entry_info[\"bookmarks\"]])"
   ]
  },
  {
   "cell_type": "code",
   "execution_count": 6,
   "metadata": {},
   "outputs": [
    {
     "data": {
      "text/plain": [
       "4275"
      ]
     },
     "execution_count": 6,
     "metadata": {},
     "output_type": "execute_result"
    }
   ],
   "source": [
    "len(set(bookmark_users))"
   ]
  },
  {
   "cell_type": "code",
   "execution_count": 1,
   "metadata": {},
   "outputs": [],
   "source": [
    "reg = re.compile(\"\\(.*?\\)$\")\n",
    "bookmark_per_page = 20\n",
    "hatena_str = \"//blog.hatena.ne.jp\"\n",
    "\n",
    "bookmark_feed_endpoint = \"https://b.hatena.ne.jp/{}/bookmark.rss\"\n",
    "\n",
    "schemes = []\n",
    "domains = []\n",
    "err_count = 0\n",
    "for idx, user in enumerate(set(bookmark_users)):\n",
    "    user_domains = []\n",
    "    res = requests.get(bookmark_feed_endpoint.format(user))\n",
    "    soup = bs4.BeautifulSoup(res.content,'lxml-xml').find(\"description\").get_text()\n",
    "    bookmark_num = int(reg.search(soup).group(0).lstrip(\"(\").rstrip(\")\").replace(\",\", \"\"))\n",
    "\n",
    "    page_num = math.floor((bookmark_per_page + bookmark_num - 1) / bookmark_per_page)\n",
    "    for page_idx in range(page_num):\n",
    "        res = requests.get(f\"{bookmark_feed_endpoint.format(user)}?page={page_idx + 1}\")\n",
    "        soup = bs4.BeautifulSoup(res.content,'lxml-xml')\n",
    "        \n",
    "        for item in soup.find_all(\"item\"):\n",
    "            try:\n",
    "                url = item.find(\"link\").get_text()\n",
    "                scheme = urlparse(url).scheme\n",
    "                domain = urlparse(url).netloc\n",
    "                if domain not in domains:\n",
    "                    if hatena_str in requests.get(f\"{scheme}://{domain}\").content.decode(\"utf-8\"):\n",
    "                        user_domains.append(domain)\n",
    "                        domains.append(domain)\n",
    "                        schemes.append(scheme)\n",
    "            except Exception as e:\n",
    "                err_count += 1\n",
    "                continue\n",
    "        break\n",
    "         \n",
    "    if idx % 10 == 0:\n",
    "        print(f\"end_user_num: {idx}, num_domain: {len(domains)}\")\n",
    "   "
   ]
  },
  {
   "cell_type": "code",
   "execution_count": 35,
   "metadata": {},
   "outputs": [],
   "source": [
    "df = pd.DataFrame({\"scheme\": schemes, \"domain\": domains})"
   ]
  },
  {
   "cell_type": "code",
   "execution_count": null,
   "metadata": {},
   "outputs": [],
   "source": []
  },
  {
   "cell_type": "code",
   "execution_count": 36,
   "metadata": {},
   "outputs": [],
   "source": [
    "df.to_csv(\"hatena_domain.csv\", index=False)"
   ]
  },
  {
   "cell_type": "code",
   "execution_count": 49,
   "metadata": {},
   "outputs": [],
   "source": [
    "urls = []\n",
    "for s, d in zip(np.array(schemes)[indecis],  np.array(domains)[indecis]):\n",
    "    url_str = f\"{s}://{d}\"\n",
    "    urls.append(url_str)"
   ]
  }
 ],
 "metadata": {
  "kernelspec": {
   "display_name": "Python 3",
   "language": "python",
   "name": "python3"
  },
  "language_info": {
   "codemirror_mode": {
    "name": "ipython",
    "version": 3
   },
   "file_extension": ".py",
   "mimetype": "text/x-python",
   "name": "python",
   "nbconvert_exporter": "python",
   "pygments_lexer": "ipython3",
   "version": "3.8.0"
  }
 },
 "nbformat": 4,
 "nbformat_minor": 4
}
