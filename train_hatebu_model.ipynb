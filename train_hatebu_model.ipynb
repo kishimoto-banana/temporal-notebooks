{
 "cells": [
  {
   "cell_type": "code",
   "execution_count": 5,
   "metadata": {},
   "outputs": [],
   "source": [
    "import pandas as pd\n",
    "import mojimoji\n",
    "import MeCab\n",
    "import requests\n",
    "import re\n",
    "from nltk.corpus import stopwords\n",
    "import nltk\n",
    "from sklearn.decomposition import PCA\n",
    "from sklearn.decomposition import TruncatedSVD\n",
    "import gensim\n",
    "from gensim import corpora, matutils\n",
    "import numpy as np\n",
    "from scipy.sparse import csr_matrix\n",
    "from sklearn.feature_extraction.text import CountVectorizer, TfidfVectorizer\n",
    "from imblearn.under_sampling import RandomUnderSampler\n",
    "from sklearn.model_selection import train_test_split\n",
    "from catboost import CatBoostClassifier\n",
    "from catboost import CatBoostRegressor\n",
    "from sklearn.metrics import accuracy_score\n",
    "from sklearn.metrics import mean_squared_error\n",
    "import math\n",
    "import seaborn as sns\n",
    "from sklearn.svm import OneClassSVM"
   ]
  },
  {
   "cell_type": "code",
   "execution_count": 241,
   "metadata": {},
   "outputs": [
    {
     "data": {
      "text/plain": [
       "(77176,)"
      ]
     },
     "execution_count": 241,
     "metadata": {},
     "output_type": "execute_result"
    }
   ],
   "source": [
    "df[\"hatena_bookmark_count\"].values.shape"
   ]
  },
  {
   "cell_type": "code",
   "execution_count": 345,
   "metadata": {},
   "outputs": [
    {
     "name": "stdout",
     "output_type": "stream",
     "text": [
      "['i', 'me', 'my', 'myself', 'we', 'our', 'ours', 'ourselves', 'you', \"you're\", \"you've\", \"you'll\", \"you'd\", 'your', 'yours', 'yourself', 'yourselves', 'he', 'him', 'his', 'himself', 'she', \"she's\", 'her', 'hers', 'herself', 'it', \"it's\", 'its', 'itself', 'they', 'them', 'their', 'theirs', 'themselves', 'what', 'which', 'who', 'whom', 'this', 'that', \"that'll\", 'these', 'those', 'am', 'is', 'are', 'was', 'were', 'be', 'been', 'being', 'have', 'has', 'had', 'having', 'do', 'does', 'did', 'doing', 'a', 'an', 'the', 'and', 'but', 'if', 'or', 'because', 'as', 'until', 'while', 'of', 'at', 'by', 'for', 'with', 'about', 'against', 'between', 'into', 'through', 'during', 'before', 'after', 'above', 'below', 'to', 'from', 'up', 'down', 'in', 'out', 'on', 'off', 'over', 'under', 'again', 'further', 'then', 'once', 'here', 'there', 'when', 'where', 'why', 'how', 'all', 'any', 'both', 'each', 'few', 'more', 'most', 'other', 'some', 'such', 'no', 'nor', 'not', 'only', 'own', 'same', 'so', 'than', 'too', 'very', 's', 't', 'can', 'will', 'just', 'don', \"don't\", 'should', \"should've\", 'now', 'd', 'll', 'm', 'o', 're', 've', 'y', 'ain', 'aren', \"aren't\", 'couldn', \"couldn't\", 'didn', \"didn't\", 'doesn', \"doesn't\", 'hadn', \"hadn't\", 'hasn', \"hasn't\", 'haven', \"haven't\", 'isn', \"isn't\", 'ma', 'mightn', \"mightn't\", 'mustn', \"mustn't\", 'needn', \"needn't\", 'shan', \"shan't\", 'shouldn', \"shouldn't\", 'wasn', \"wasn't\", 'weren', \"weren't\", 'won', \"won't\", 'wouldn', \"wouldn't\"]\n"
     ]
    }
   ],
   "source": [
    "stop_words = stopwords.words(\"english\")\n",
    "print(stop_words)"
   ]
  },
  {
   "cell_type": "code",
   "execution_count": 266,
   "metadata": {},
   "outputs": [
    {
     "data": {
      "text/plain": [
       "<matplotlib.axes._subplots.AxesSubplot at 0x161b545e0>"
      ]
     },
     "execution_count": 266,
     "metadata": {},
     "output_type": "execute_result"
    },
    {
     "data": {
      "image/png": "[encoded data removed]",
      "text/plain": [
       "<Figure size 432x288 with 1 Axes>"
      ]
     },
     "metadata": {
      "needs_background": "light"
     },
     "output_type": "display_data"
    }
   ],
   "source": [
    "sns.distplot(df[df[\"hatena_bookmark_count\"] >= 400][\"hatena_bookmark_count\"], kde=False, rug=False, bins=100)\n"
   ]
  },
  {
   "cell_type": "code",
   "execution_count": 6,
   "metadata": {},
   "outputs": [],
   "source": [
    "df = pd.read_csv(\"/Users/kishimoto/go/src/github.com/kishimoto-banana/velvet-crawler/crawled_hatena.csv\")"
   ]
  },
  {
   "cell_type": "code",
   "execution_count": 8,
   "metadata": {},
   "outputs": [
    {
     "data": {
      "text/plain": [
       "77176"
      ]
     },
     "execution_count": 8,
     "metadata": {},
     "output_type": "execute_result"
    }
   ],
   "source": [
    "len(df)"
   ]
  },
  {
   "cell_type": "code",
   "execution_count": 8,
   "metadata": {},
   "outputs": [
    {
     "data": {
      "text/plain": [
       "49129"
      ]
     },
     "execution_count": 8,
     "metadata": {},
     "output_type": "execute_result"
    }
   ],
   "source": [
    "len(df[df[\"hatena_bookmark_count\"] == 0])\n"
   ]
  },
  {
   "cell_type": "code",
   "execution_count": 9,
   "metadata": {},
   "outputs": [
    {
     "data": {
      "text/plain": [
       "28047"
      ]
     },
     "execution_count": 9,
     "metadata": {},
     "output_type": "execute_result"
    }
   ],
   "source": [
    "len(df[df[\"hatena_bookmark_count\"] != 0])"
   ]
  },
  {
   "cell_type": "code",
   "execution_count": 196,
   "metadata": {},
   "outputs": [
    {
     "data": {
      "text/plain": [
       "count    28047.000000\n",
       "mean        20.641887\n",
       "std         85.018941\n",
       "min          1.000000\n",
       "25%          1.000000\n",
       "50%          3.000000\n",
       "75%          9.000000\n",
       "max       2376.000000\n",
       "Name: hatena_bookmark_count, dtype: float64"
      ]
     },
     "execution_count": 196,
     "metadata": {},
     "output_type": "execute_result"
    }
   ],
   "source": [
    "df[df[\"hatena_bookmark_count\"] != 0][\"hatena_bookmark_count\"].describe()"
   ]
  },
  {
   "cell_type": "code",
   "execution_count": 270,
   "metadata": {},
   "outputs": [
    {
     "data": {
      "text/plain": [
       "0.75     9.0\n",
       "0.95    74.0\n",
       "Name: hatena_bookmark_count, dtype: float64"
      ]
     },
     "execution_count": 270,
     "metadata": {},
     "output_type": "execute_result"
    }
   ],
   "source": [
    "df[df[\"hatena_bookmark_count\"] != 0][\"hatena_bookmark_count\"].quantile(q=[0.75, 0.95])"
   ]
  },
  {
   "cell_type": "code",
   "execution_count": 257,
   "metadata": {},
   "outputs": [],
   "source": [
    "df['kouseihi'] = df[\"hatena_bookmark_count\"]/ df[\"hatena_bookmark_count\"].sum()\n",
    "df['ruiseki'] = df[\"hatena_bookmark_count\"].cumsum() / df[\"hatena_bookmark_count\"].sum()"
   ]
  },
  {
   "cell_type": "code",
   "execution_count": 258,
   "metadata": {},
   "outputs": [
    {
     "data": {
      "text/html": [
       "<div>\n",
       "<style scoped>\n",
       "    .dataframe tbody tr th:only-of-type {\n",
       "        vertical-align: middle;\n",
       "    }\n",
       "\n",
       "    .dataframe tbody tr th {\n",
       "        vertical-align: top;\n",
       "    }\n",
       "\n",
       "    .dataframe thead th {\n",
       "        text-align: right;\n",
       "    }\n",
       "</style>\n",
       "<table border=\"1\" class=\"dataframe\">\n",
       "  <thead>\n",
       "    <tr style=\"text-align: right;\">\n",
       "      <th></th>\n",
       "      <th>id</th>\n",
       "      <th>domain</th>\n",
       "      <th>url</th>\n",
       "      <th>title</th>\n",
       "      <th>main_text</th>\n",
       "      <th>published_at</th>\n",
       "      <th>hatena_bookmark_count</th>\n",
       "      <th>created_at</th>\n",
       "      <th>updated_at</th>\n",
       "      <th>kouseihi</th>\n",
       "      <th>ruiseki</th>\n",
       "    </tr>\n",
       "  </thead>\n",
       "  <tbody>\n",
       "    <tr>\n",
       "      <th>0</th>\n",
       "      <td>1</td>\n",
       "      <td>mrtry.hatenablog.jp</td>\n",
       "      <td>https://mrtry.hatenablog.jp/entry/2018/07/08/1...</td>\n",
       "      <td>はてブしたらSlackに通知するGASを書いた - お気持ちの表明</td>\n",
       "      <td>[はてブ](http://d.hatena.ne.jp/keyword/%A4%CF%A4%...</td>\n",
       "      <td>2018-07-08 07:30:04</td>\n",
       "      <td>5</td>\n",
       "      <td>2019-12-31 15:53:58.754482</td>\n",
       "      <td>2019-12-31 15:53:58.754482</td>\n",
       "      <td>0.000009</td>\n",
       "      <td>0.000009</td>\n",
       "    </tr>\n",
       "    <tr>\n",
       "      <th>1</th>\n",
       "      <td>2</td>\n",
       "      <td>akasofa.hatenablog.com</td>\n",
       "      <td>http://akasofa.hatenablog.com/entry/2019/12/29...</td>\n",
       "      <td>個人的に選ぶツイートオブザイヤー2019（上半期） - 光景ワレズANNEX</td>\n",
       "      <td>毎年勝手に選んで何の栄誉も無いやつです。自分が読み返して楽しむためのものをシェア〜しているイ...</td>\n",
       "      <td>2019-12-29 02:36:26</td>\n",
       "      <td>1</td>\n",
       "      <td>2019-12-31 15:54:30.481937</td>\n",
       "      <td>2019-12-31 15:54:30.481937</td>\n",
       "      <td>0.000002</td>\n",
       "      <td>0.000010</td>\n",
       "    </tr>\n",
       "    <tr>\n",
       "      <th>2</th>\n",
       "      <td>3</td>\n",
       "      <td>notargs.hateblo.jp</td>\n",
       "      <td>https://notargs.hateblo.jp/entry/sponge</td>\n",
       "      <td>【Unity】サクッとメンガーのスポンジを作図する - のたぐすブログ</td>\n",
       "      <td>Cluster,Inc. Advent Calendar 2018、25日目の記事です。\\n...</td>\n",
       "      <td>2018-12-24 15:00:00</td>\n",
       "      <td>0</td>\n",
       "      <td>2019-12-31 15:54:30.74233</td>\n",
       "      <td>2019-12-31 15:54:30.74233</td>\n",
       "      <td>0.000000</td>\n",
       "      <td>0.000010</td>\n",
       "    </tr>\n",
       "    <tr>\n",
       "      <th>3</th>\n",
       "      <td>4</td>\n",
       "      <td>mrtry.hatenablog.jp</td>\n",
       "      <td>https://mrtry.hatenablog.jp/entry/2018/08/12/1...</td>\n",
       "      <td>鴨居フックとワイヤーネットでケーブルトレーもどきを実装する - お気持ちの表明</td>\n",
       "      <td>机周りを整理しているとき、配線をきれいにしたいなと思いました。\\n\\nケー[ブルトレ](ht...</td>\n",
       "      <td>2018-08-12 08:39:16</td>\n",
       "      <td>0</td>\n",
       "      <td>2019-12-31 15:54:33.479734</td>\n",
       "      <td>2019-12-31 15:54:33.479734</td>\n",
       "      <td>0.000000</td>\n",
       "      <td>0.000010</td>\n",
       "    </tr>\n",
       "    <tr>\n",
       "      <th>4</th>\n",
       "      <td>5</td>\n",
       "      <td>mrtry.hatenablog.jp</td>\n",
       "      <td>https://mrtry.hatenablog.jp/entry/2018/11/15/2...</td>\n",
       "      <td>React NativeとExpoの話題でDroidKaigiに登壇することになりました -...</td>\n",
       "      <td>## 登壇することになりました\\n\\nあばばばば。\\n\\n前職で生React Nativeで...</td>\n",
       "      <td>2018-11-15 12:05:23</td>\n",
       "      <td>3</td>\n",
       "      <td>2019-12-31 15:54:33.609174</td>\n",
       "      <td>2019-12-31 15:54:33.609174</td>\n",
       "      <td>0.000005</td>\n",
       "      <td>0.000016</td>\n",
       "    </tr>\n",
       "  </tbody>\n",
       "</table>\n",
       "</div>"
      ],
      "text/plain": [
       "   id                  domain  \\\n",
       "0   1     mrtry.hatenablog.jp   \n",
       "1   2  akasofa.hatenablog.com   \n",
       "2   3      notargs.hateblo.jp   \n",
       "3   4     mrtry.hatenablog.jp   \n",
       "4   5     mrtry.hatenablog.jp   \n",
       "\n",
       "                                                 url  \\\n",
       "0  https://mrtry.hatenablog.jp/entry/2018/07/08/1...   \n",
       "1  http://akasofa.hatenablog.com/entry/2019/12/29...   \n",
       "2            https://notargs.hateblo.jp/entry/sponge   \n",
       "3  https://mrtry.hatenablog.jp/entry/2018/08/12/1...   \n",
       "4  https://mrtry.hatenablog.jp/entry/2018/11/15/2...   \n",
       "\n",
       "                                               title  \\\n",
       "0                  はてブしたらSlackに通知するGASを書いた - お気持ちの表明   \n",
       "1             個人的に選ぶツイートオブザイヤー2019（上半期） - 光景ワレズANNEX   \n",
       "2                【Unity】サクッとメンガーのスポンジを作図する - のたぐすブログ   \n",
       "3            鴨居フックとワイヤーネットでケーブルトレーもどきを実装する - お気持ちの表明   \n",
       "4  React NativeとExpoの話題でDroidKaigiに登壇することになりました -...   \n",
       "\n",
       "                                           main_text         published_at  \\\n",
       "0  [はてブ](http://d.hatena.ne.jp/keyword/%A4%CF%A4%...  2018-07-08 07:30:04   \n",
       "1  毎年勝手に選んで何の栄誉も無いやつです。自分が読み返して楽しむためのものをシェア〜しているイ...  2019-12-29 02:36:26   \n",
       "2  Cluster,Inc. Advent Calendar 2018、25日目の記事です。\\n...  2018-12-24 15:00:00   \n",
       "3  机周りを整理しているとき、配線をきれいにしたいなと思いました。\\n\\nケー[ブルトレ](ht...  2018-08-12 08:39:16   \n",
       "4  ## 登壇することになりました\\n\\nあばばばば。\\n\\n前職で生React Nativeで...  2018-11-15 12:05:23   \n",
       "\n",
       "   hatena_bookmark_count                  created_at  \\\n",
       "0                      5  2019-12-31 15:53:58.754482   \n",
       "1                      1  2019-12-31 15:54:30.481937   \n",
       "2                      0   2019-12-31 15:54:30.74233   \n",
       "3                      0  2019-12-31 15:54:33.479734   \n",
       "4                      3  2019-12-31 15:54:33.609174   \n",
       "\n",
       "                   updated_at  kouseihi   ruiseki  \n",
       "0  2019-12-31 15:53:58.754482  0.000009  0.000009  \n",
       "1  2019-12-31 15:54:30.481937  0.000002  0.000010  \n",
       "2   2019-12-31 15:54:30.74233  0.000000  0.000010  \n",
       "3  2019-12-31 15:54:33.479734  0.000000  0.000010  \n",
       "4  2019-12-31 15:54:33.609174  0.000005  0.000016  "
      ]
     },
     "execution_count": 258,
     "metadata": {},
     "output_type": "execute_result"
    }
   ],
   "source": [
    "df.head()"
   ]
  },
  {
   "cell_type": "code",
   "execution_count": 9,
   "metadata": {},
   "outputs": [],
   "source": [
    "stopword_url = 'http://svn.sourceforge.jp/svnroot/slothlib/CSharp/Version1/SlothLib/NLP/Filter/StopWord/word/Japanese.txt'\n",
    "response = requests.get(stopword_url)\n",
    "ja_stopwords = [w for w in response.content.decode().split('\\r\\n') if w != '']\n",
    "en_stopwords = stopwords.words(\"english\")\n",
    "my_stopwords =  [\"の\", \".com\", \"images\", \"id\", \"hatena\", \"ん\", \"fotolife\", \".jpg\", \"plain\", \"image\", \"png\", \"さ\", \"at\", \"%\", \"n/\", \"www\", \"ら\", \".s\", \"()\"]\n",
    "stopwords = ja_stopwords + en_stopwords + my_stopwords\n",
    "\n",
    "target_parts_of_speech = ('名詞')\n",
    "regex = re.compile(r'\\d')"
   ]
  },
  {
   "cell_type": "code",
   "execution_count": 10,
   "metadata": {},
   "outputs": [],
   "source": [
    "\n",
    "def tokenize(sentence, dict_path=None):\n",
    "    sentence = re.sub(r'r://[\\w/:%#\\$&\\?~\\.=\\+\\-]+', '', sentence)\n",
    "    if dict_path is not None:\n",
    "        tagger = MeCab.Tagger(f'-d {dict_path}')\n",
    "    else:\n",
    "        tagger = MeCab.Tagger()\n",
    "        \n",
    "    tokenized_sentence = []\n",
    "    regex = re.compile(r'\\d')\n",
    "    regax_one = re.compile(r\"^\\w$\")\n",
    "    try:\n",
    "        for chunk in tagger.parse(sentence).splitlines()[:-1]:\n",
    "            (surface, feature) = chunk.split('\\t')\n",
    "            if feature.startswith(target_parts_of_speech):\n",
    "                if surface not in stopwords:\n",
    "                    if not regex.search(surface) and not regax_one.search(surface):\n",
    "                        word = word_normiraze(surface)\n",
    "                        tokenized_sentence.append(word)\n",
    "    except Exception:\n",
    "        print(\"err\")\n",
    "        print(sentence)\n",
    "                    \n",
    "    return tokenized_sentence\n",
    "\n",
    "def word_normiraze(word):\n",
    "    \"\"\"単語の正規化\n",
    "    \"\"\"\n",
    "    word = word.lower()\n",
    "    word = mojimoji.han_to_zen(word, ascii=False, digit=False)\n",
    "    word = mojimoji.zen_to_han(word, kana=False)\n",
    "\n",
    "    return word"
   ]
  },
  {
   "cell_type": "code",
   "execution_count": 1,
   "metadata": {},
   "outputs": [],
   "source": [
    "dict_path = \"/usr/local/lib/mecab/dic/mecab-ipadic-neologd/\"\n",
    "\n",
    "tokenized_sentences = []\n",
    "for idx, main_text in enumerate(df[\"main_text\"].values):\n",
    "    if idx % 1000 == 0:\n",
    "        print(idx, len(tokenized_sentences))\n",
    "    tokenized_sentences.append(tokenize(main_text, dict_path))"
   ]
  },
  {
   "cell_type": "code",
   "execution_count": 12,
   "metadata": {},
   "outputs": [],
   "source": [
    "corpus = [' '.join(d) for d in tokenized_sentences]"
   ]
  },
  {
   "cell_type": "code",
   "execution_count": 50,
   "metadata": {},
   "outputs": [],
   "source": [
    "vec = CountVectorizer(token_pattern=u'(?u)\\\\b\\\\w+\\\\b', min_df=0.00007142857, max_df=0.7)\n",
    "# vec = TfidfVectorizer(token_pattern=u'(?u)\\\\b\\\\w+\\\\b', min_df=0.00007142857, max_df=0.7)\n",
    "X_bow = vec.fit_transform(corpus)"
   ]
  },
  {
   "cell_type": "code",
   "execution_count": 44,
   "metadata": {},
   "outputs": [
    {
     "data": {
      "text/plain": [
       "['vectorizer.pkl']"
      ]
     },
     "execution_count": 44,
     "metadata": {},
     "output_type": "execute_result"
    }
   ],
   "source": [
    "joblib.dump(vec, \"vectorizer.pkl\")"
   ]
  },
  {
   "cell_type": "code",
   "execution_count": 16,
   "metadata": {},
   "outputs": [],
   "source": [
    "count_char = lambda x: len(x)\n",
    "char_counts = df[\"main_text\"].map(count_char).values"
   ]
  },
  {
   "cell_type": "code",
   "execution_count": 17,
   "metadata": {},
   "outputs": [],
   "source": [
    "word_counts = np.array([len(sentence) for sentence in tokenized_sentences])"
   ]
  },
  {
   "cell_type": "code",
   "execution_count": 45,
   "metadata": {},
   "outputs": [],
   "source": [
    "svd = TruncatedSVD(n_components=100, random_state=42)\n",
    "X_svd = svd.fit_transform(X_bow)"
   ]
  },
  {
   "cell_type": "code",
   "execution_count": 46,
   "metadata": {},
   "outputs": [
    {
     "data": {
      "text/plain": [
       "['svd.pkl']"
      ]
     },
     "execution_count": 46,
     "metadata": {},
     "output_type": "execute_result"
    }
   ],
   "source": [
    "joblib.dump(svd, \"svd.pkl\")"
   ]
  },
  {
   "cell_type": "code",
   "execution_count": 64,
   "metadata": {},
   "outputs": [],
   "source": [
    "X = np.hstack([X_svd, char_counts.reshape(char_counts.shape[0], -1), word_counts.reshape(word_counts.shape[0], -1)])"
   ]
  },
  {
   "cell_type": "code",
   "execution_count": 63,
   "metadata": {},
   "outputs": [],
   "source": [
    "y = ((df[\"hatena_bookmark_count\"] != 0) * 1).values"
   ]
  },
  {
   "cell_type": "code",
   "execution_count": 65,
   "metadata": {},
   "outputs": [],
   "source": [
    "sampler = RandomUnderSampler(sampling_strategy={0: y.sum(), 1: y.sum()}, random_state=42)\n",
    "X_sampled, y_sampled = sampler.fit_sample(X_svd, y)"
   ]
  },
  {
   "cell_type": "code",
   "execution_count": 66,
   "metadata": {},
   "outputs": [],
   "source": [
    "X_train, X_test, y_train, y_test = train_test_split(X_sampled,\n",
    "                                                    y_sampled,\n",
    "                                                    test_size=0.3,\n",
    "                                                    random_state=0)"
   ]
  },
  {
   "cell_type": "code",
   "execution_count": 69,
   "metadata": {},
   "outputs": [],
   "source": [
    "pred = model.predict(X_test)"
   ]
  },
  {
   "cell_type": "code",
   "execution_count": 70,
   "metadata": {},
   "outputs": [
    {
     "data": {
      "text/plain": [
       "array([0., 1., 1., ..., 0., 1., 0.])"
      ]
     },
     "execution_count": 70,
     "metadata": {},
     "output_type": "execute_result"
    }
   ],
   "source": [
    "pred"
   ]
  },
  {
   "cell_type": "code",
   "execution_count": 67,
   "metadata": {},
   "outputs": [
    {
     "name": "stdout",
     "output_type": "stream",
     "text": [
      "Learning rate set to 0.307342\n",
      "0:\tlearn: 0.6242926\ttest: 0.6223016\tbest: 0.6223016 (0)\ttotal: 48.1ms\tremaining: 4.76s\n",
      "1:\tlearn: 0.5908227\ttest: 0.5873155\tbest: 0.5873155 (1)\ttotal: 71.8ms\tremaining: 3.52s\n",
      "2:\tlearn: 0.5650298\ttest: 0.5603706\tbest: 0.5603706 (2)\ttotal: 95.5ms\tremaining: 3.09s\n",
      "3:\tlearn: 0.5528708\ttest: 0.5480307\tbest: 0.5480307 (3)\ttotal: 120ms\tremaining: 2.88s\n",
      "4:\tlearn: 0.5448099\ttest: 0.5410246\tbest: 0.5410246 (4)\ttotal: 143ms\tremaining: 2.72s\n",
      "5:\tlearn: 0.5391795\ttest: 0.5359746\tbest: 0.5359746 (5)\ttotal: 165ms\tremaining: 2.58s\n",
      "6:\tlearn: 0.5350987\ttest: 0.5324162\tbest: 0.5324162 (6)\ttotal: 193ms\tremaining: 2.56s\n",
      "7:\tlearn: 0.5310696\ttest: 0.5290756\tbest: 0.5290756 (7)\ttotal: 234ms\tremaining: 2.69s\n",
      "8:\tlearn: 0.5267870\ttest: 0.5253570\tbest: 0.5253570 (8)\ttotal: 263ms\tremaining: 2.65s\n",
      "9:\tlearn: 0.5244563\ttest: 0.5233710\tbest: 0.5233710 (9)\ttotal: 283ms\tremaining: 2.55s\n",
      "10:\tlearn: 0.5212415\ttest: 0.5206804\tbest: 0.5206804 (10)\ttotal: 305ms\tremaining: 2.47s\n",
      "11:\tlearn: 0.5188124\ttest: 0.5184615\tbest: 0.5184615 (11)\ttotal: 327ms\tremaining: 2.4s\n",
      "12:\tlearn: 0.5170333\ttest: 0.5168526\tbest: 0.5168526 (12)\ttotal: 350ms\tremaining: 2.34s\n",
      "13:\tlearn: 0.5153338\ttest: 0.5158537\tbest: 0.5158537 (13)\ttotal: 372ms\tremaining: 2.28s\n",
      "14:\tlearn: 0.5131669\ttest: 0.5144137\tbest: 0.5144137 (14)\ttotal: 398ms\tremaining: 2.25s\n",
      "15:\tlearn: 0.5113013\ttest: 0.5133449\tbest: 0.5133449 (15)\ttotal: 438ms\tremaining: 2.3s\n",
      "16:\tlearn: 0.5098030\ttest: 0.5126011\tbest: 0.5126011 (16)\ttotal: 467ms\tremaining: 2.28s\n",
      "17:\tlearn: 0.5083914\ttest: 0.5116292\tbest: 0.5116292 (17)\ttotal: 489ms\tremaining: 2.23s\n",
      "18:\tlearn: 0.5063806\ttest: 0.5099300\tbest: 0.5099300 (18)\ttotal: 511ms\tremaining: 2.18s\n",
      "19:\tlearn: 0.5048456\ttest: 0.5090982\tbest: 0.5090982 (19)\ttotal: 532ms\tremaining: 2.13s\n",
      "20:\tlearn: 0.5034514\ttest: 0.5085005\tbest: 0.5085005 (20)\ttotal: 554ms\tremaining: 2.08s\n",
      "21:\tlearn: 0.5018493\ttest: 0.5073998\tbest: 0.5073998 (21)\ttotal: 576ms\tremaining: 2.04s\n",
      "22:\tlearn: 0.5010669\ttest: 0.5070138\tbest: 0.5070138 (22)\ttotal: 597ms\tremaining: 2s\n",
      "23:\tlearn: 0.4998803\ttest: 0.5065436\tbest: 0.5065436 (23)\ttotal: 638ms\tremaining: 2.02s\n",
      "24:\tlearn: 0.4987317\ttest: 0.5061634\tbest: 0.5061634 (24)\ttotal: 666ms\tremaining: 2s\n",
      "25:\tlearn: 0.4975571\ttest: 0.5054515\tbest: 0.5054515 (25)\ttotal: 688ms\tremaining: 1.96s\n",
      "26:\tlearn: 0.4964072\ttest: 0.5049181\tbest: 0.5049181 (26)\ttotal: 711ms\tremaining: 1.92s\n",
      "27:\tlearn: 0.4952369\ttest: 0.5042279\tbest: 0.5042279 (27)\ttotal: 733ms\tremaining: 1.88s\n",
      "28:\tlearn: 0.4944618\ttest: 0.5040940\tbest: 0.5040940 (28)\ttotal: 756ms\tremaining: 1.85s\n",
      "29:\tlearn: 0.4934370\ttest: 0.5036815\tbest: 0.5036815 (29)\ttotal: 779ms\tremaining: 1.82s\n",
      "30:\tlearn: 0.4924602\ttest: 0.5032390\tbest: 0.5032390 (30)\ttotal: 799ms\tremaining: 1.78s\n",
      "31:\tlearn: 0.4913828\ttest: 0.5024709\tbest: 0.5024709 (31)\ttotal: 822ms\tremaining: 1.75s\n",
      "32:\tlearn: 0.4901202\ttest: 0.5018128\tbest: 0.5018128 (32)\ttotal: 851ms\tremaining: 1.73s\n",
      "33:\tlearn: 0.4891778\ttest: 0.5012408\tbest: 0.5012408 (33)\ttotal: 887ms\tremaining: 1.72s\n",
      "34:\tlearn: 0.4881472\ttest: 0.5010065\tbest: 0.5010065 (34)\ttotal: 913ms\tremaining: 1.7s\n",
      "35:\tlearn: 0.4873437\ttest: 0.5007245\tbest: 0.5007245 (35)\ttotal: 934ms\tremaining: 1.66s\n",
      "36:\tlearn: 0.4861637\ttest: 0.5007782\tbest: 0.5007245 (35)\ttotal: 957ms\tremaining: 1.63s\n",
      "37:\tlearn: 0.4851975\ttest: 0.5003528\tbest: 0.5003528 (37)\ttotal: 980ms\tremaining: 1.6s\n",
      "38:\tlearn: 0.4838008\ttest: 0.5000946\tbest: 0.5000946 (38)\ttotal: 1s\tremaining: 1.57s\n",
      "39:\tlearn: 0.4828610\ttest: 0.4993963\tbest: 0.4993963 (39)\ttotal: 1.03s\tremaining: 1.54s\n",
      "40:\tlearn: 0.4816627\ttest: 0.4987093\tbest: 0.4987093 (40)\ttotal: 1.05s\tremaining: 1.51s\n",
      "41:\tlearn: 0.4804704\ttest: 0.4984336\tbest: 0.4984336 (41)\ttotal: 1.12s\tremaining: 1.54s\n",
      "42:\tlearn: 0.4793176\ttest: 0.4982694\tbest: 0.4982694 (42)\ttotal: 1.2s\tremaining: 1.59s\n",
      "43:\tlearn: 0.4782277\ttest: 0.4980943\tbest: 0.4980943 (43)\ttotal: 1.25s\tremaining: 1.58s\n",
      "44:\tlearn: 0.4766428\ttest: 0.4971329\tbest: 0.4971329 (44)\ttotal: 1.27s\tremaining: 1.55s\n",
      "45:\tlearn: 0.4753347\ttest: 0.4967298\tbest: 0.4967298 (45)\ttotal: 1.3s\tremaining: 1.52s\n",
      "46:\tlearn: 0.4741540\ttest: 0.4964950\tbest: 0.4964950 (46)\ttotal: 1.33s\tremaining: 1.5s\n",
      "47:\tlearn: 0.4734438\ttest: 0.4961295\tbest: 0.4961295 (47)\ttotal: 1.36s\tremaining: 1.48s\n",
      "48:\tlearn: 0.4722990\ttest: 0.4957303\tbest: 0.4957303 (48)\ttotal: 1.4s\tremaining: 1.45s\n",
      "49:\tlearn: 0.4711277\ttest: 0.4956178\tbest: 0.4956178 (49)\ttotal: 1.42s\tremaining: 1.42s\n",
      "50:\tlearn: 0.4700407\ttest: 0.4951853\tbest: 0.4951853 (50)\ttotal: 1.44s\tremaining: 1.39s\n",
      "51:\tlearn: 0.4690089\ttest: 0.4950222\tbest: 0.4950222 (51)\ttotal: 1.46s\tremaining: 1.35s\n",
      "52:\tlearn: 0.4683129\ttest: 0.4949136\tbest: 0.4949136 (52)\ttotal: 1.49s\tremaining: 1.32s\n",
      "53:\tlearn: 0.4671086\ttest: 0.4945510\tbest: 0.4945510 (53)\ttotal: 1.51s\tremaining: 1.28s\n",
      "54:\tlearn: 0.4661781\ttest: 0.4941827\tbest: 0.4941827 (54)\ttotal: 1.54s\tremaining: 1.26s\n",
      "55:\tlearn: 0.4648670\ttest: 0.4935902\tbest: 0.4935902 (55)\ttotal: 1.63s\tremaining: 1.28s\n",
      "56:\tlearn: 0.4637940\ttest: 0.4934587\tbest: 0.4934587 (56)\ttotal: 1.67s\tremaining: 1.26s\n",
      "57:\tlearn: 0.4627707\ttest: 0.4935269\tbest: 0.4934587 (56)\ttotal: 1.75s\tremaining: 1.26s\n",
      "58:\tlearn: 0.4617013\ttest: 0.4932867\tbest: 0.4932867 (58)\ttotal: 1.81s\tremaining: 1.26s\n",
      "59:\tlearn: 0.4610165\ttest: 0.4931322\tbest: 0.4931322 (59)\ttotal: 1.85s\tremaining: 1.23s\n",
      "60:\tlearn: 0.4600901\ttest: 0.4928495\tbest: 0.4928495 (60)\ttotal: 1.9s\tremaining: 1.21s\n",
      "61:\tlearn: 0.4591773\ttest: 0.4927792\tbest: 0.4927792 (61)\ttotal: 1.93s\tremaining: 1.19s\n",
      "62:\tlearn: 0.4585052\ttest: 0.4926556\tbest: 0.4926556 (62)\ttotal: 1.97s\tremaining: 1.16s\n",
      "63:\tlearn: 0.4574945\ttest: 0.4924193\tbest: 0.4924193 (63)\ttotal: 2.01s\tremaining: 1.13s\n",
      "64:\tlearn: 0.4563833\ttest: 0.4923903\tbest: 0.4923903 (64)\ttotal: 2.04s\tremaining: 1.1s\n",
      "65:\tlearn: 0.4556304\ttest: 0.4924989\tbest: 0.4923903 (64)\ttotal: 2.06s\tremaining: 1.06s\n",
      "66:\tlearn: 0.4546837\ttest: 0.4925175\tbest: 0.4923903 (64)\ttotal: 2.08s\tremaining: 1.03s\n",
      "67:\tlearn: 0.4535963\ttest: 0.4922737\tbest: 0.4922737 (67)\ttotal: 2.11s\tremaining: 992ms\n",
      "68:\tlearn: 0.4530992\ttest: 0.4920769\tbest: 0.4920769 (68)\ttotal: 2.13s\tremaining: 957ms\n",
      "69:\tlearn: 0.4524410\ttest: 0.4919817\tbest: 0.4919817 (69)\ttotal: 2.16s\tremaining: 924ms\n",
      "70:\tlearn: 0.4514857\ttest: 0.4918724\tbest: 0.4918724 (70)\ttotal: 2.22s\tremaining: 906ms\n",
      "71:\tlearn: 0.4505971\ttest: 0.4914536\tbest: 0.4914536 (71)\ttotal: 2.28s\tremaining: 887ms\n",
      "72:\tlearn: 0.4496302\ttest: 0.4912061\tbest: 0.4912061 (72)\ttotal: 2.31s\tremaining: 853ms\n",
      "73:\tlearn: 0.4486166\ttest: 0.4910479\tbest: 0.4910479 (73)\ttotal: 2.33s\tremaining: 819ms\n",
      "74:\tlearn: 0.4475376\ttest: 0.4909278\tbest: 0.4909278 (74)\ttotal: 2.35s\tremaining: 784ms\n",
      "75:\tlearn: 0.4465894\ttest: 0.4912633\tbest: 0.4909278 (74)\ttotal: 2.38s\tremaining: 751ms\n",
      "76:\tlearn: 0.4458724\ttest: 0.4911163\tbest: 0.4909278 (74)\ttotal: 2.4s\tremaining: 717ms\n",
      "77:\tlearn: 0.4450956\ttest: 0.4910364\tbest: 0.4909278 (74)\ttotal: 2.43s\tremaining: 684ms\n",
      "78:\tlearn: 0.4440865\ttest: 0.4907481\tbest: 0.4907481 (78)\ttotal: 2.47s\tremaining: 657ms\n",
      "79:\tlearn: 0.4432141\ttest: 0.4906514\tbest: 0.4906514 (79)\ttotal: 2.5s\tremaining: 624ms\n",
      "80:\tlearn: 0.4422001\ttest: 0.4904210\tbest: 0.4904210 (80)\ttotal: 2.52s\tremaining: 591ms\n",
      "81:\tlearn: 0.4412844\ttest: 0.4903289\tbest: 0.4903289 (81)\ttotal: 2.54s\tremaining: 558ms\n",
      "82:\tlearn: 0.4405716\ttest: 0.4903398\tbest: 0.4903289 (81)\ttotal: 2.56s\tremaining: 525ms\n",
      "83:\tlearn: 0.4398770\ttest: 0.4904320\tbest: 0.4903289 (81)\ttotal: 2.59s\tremaining: 493ms\n",
      "84:\tlearn: 0.4393835\ttest: 0.4900882\tbest: 0.4900882 (84)\ttotal: 2.61s\tremaining: 460ms\n",
      "85:\tlearn: 0.4386598\ttest: 0.4900116\tbest: 0.4900116 (85)\ttotal: 2.66s\tremaining: 433ms\n",
      "86:\tlearn: 0.4378144\ttest: 0.4899456\tbest: 0.4899456 (86)\ttotal: 2.73s\tremaining: 408ms\n",
      "87:\tlearn: 0.4369603\ttest: 0.4898504\tbest: 0.4898504 (87)\ttotal: 2.78s\tremaining: 379ms\n",
      "88:\tlearn: 0.4363422\ttest: 0.4899215\tbest: 0.4898504 (87)\ttotal: 2.83s\tremaining: 350ms\n",
      "89:\tlearn: 0.4355401\ttest: 0.4898252\tbest: 0.4898252 (89)\ttotal: 2.88s\tremaining: 320ms\n",
      "90:\tlearn: 0.4346392\ttest: 0.4896559\tbest: 0.4896559 (90)\ttotal: 2.95s\tremaining: 292ms\n",
      "91:\tlearn: 0.4338599\ttest: 0.4898680\tbest: 0.4896559 (90)\ttotal: 3s\tremaining: 261ms\n",
      "92:\tlearn: 0.4329511\ttest: 0.4899343\tbest: 0.4896559 (90)\ttotal: 3.04s\tremaining: 229ms\n",
      "93:\tlearn: 0.4320789\ttest: 0.4900228\tbest: 0.4896559 (90)\ttotal: 3.1s\tremaining: 198ms\n",
      "94:\tlearn: 0.4312900\ttest: 0.4901987\tbest: 0.4896559 (90)\ttotal: 3.15s\tremaining: 166ms\n",
      "95:\tlearn: 0.4305322\ttest: 0.4903779\tbest: 0.4896559 (90)\ttotal: 3.21s\tremaining: 134ms\n",
      "96:\tlearn: 0.4298045\ttest: 0.4903378\tbest: 0.4896559 (90)\ttotal: 3.27s\tremaining: 101ms\n",
      "97:\tlearn: 0.4290024\ttest: 0.4905353\tbest: 0.4896559 (90)\ttotal: 3.34s\tremaining: 68.1ms\n",
      "98:\tlearn: 0.4281148\ttest: 0.4904568\tbest: 0.4896559 (90)\ttotal: 3.41s\tremaining: 34.4ms\n",
      "99:\tlearn: 0.4273511\ttest: 0.4906751\tbest: 0.4896559 (90)\ttotal: 3.46s\tremaining: 0us\n",
      "\n",
      "bestTest = 0.4896558976\n",
      "bestIteration = 90\n",
      "\n",
      "Shrink model to first 91 iterations.\n",
      "Accuracy: 0.7526888109810447\n"
     ]
    }
   ],
   "source": [
    "# 分類\n",
    "model = CatBoostClassifier(num_boost_round=100,\n",
    "                           loss_function='Logloss',\n",
    "#                            early_stopping_rounds=10,\n",
    "                           )\n",
    "model.fit(X_train, y_train, eval_set=[(X_test, y_test)])\n",
    "# model.fit(X_train, y_train)\n",
    "# 確率がほしいときは predict_proba() を使う\n",
    "y_pred = model.predict(X_test)\n",
    "\n",
    "acc = accuracy_score(y_test, y_pred)\n",
    "print('Accuracy:', acc)"
   ]
  },
  {
   "cell_type": "code",
   "execution_count": 68,
   "metadata": {},
   "outputs": [
    {
     "data": {
      "text/plain": [
       "['classifier.pkl']"
      ]
     },
     "execution_count": 68,
     "metadata": {},
     "output_type": "execute_result"
    }
   ],
   "source": [
    "joblib.dump(model, \"classifier.pkl\")"
   ]
  },
  {
   "cell_type": "code",
   "execution_count": 21,
   "metadata": {},
   "outputs": [],
   "source": [
    "# 回帰\n",
    "# y_reg = (df[df[\"hatena_bookmark_count\"] <= 74][\"hatena_bookmark_count\"]).values\n",
    "y_reg = df.query(\"hatena_bookmark_count != 0 and hatena_bookmark_count < 100\")[\"hatena_bookmark_count\"].values"
   ]
  },
  {
   "cell_type": "code",
   "execution_count": 326,
   "metadata": {},
   "outputs": [
    {
     "data": {
      "text/plain": [
       "26896"
      ]
     },
     "execution_count": 326,
     "metadata": {},
     "output_type": "execute_result"
    }
   ],
   "source": [
    "sum((df[\"hatena_bookmark_count\"] < 100) & (df[\"hatena_bookmark_count\"] != 0))"
   ]
  },
  {
   "cell_type": "code",
   "execution_count": 22,
   "metadata": {},
   "outputs": [],
   "source": [
    "X_reg = X_svd[(df[\"hatena_bookmark_count\"] < 100) & (df[\"hatena_bookmark_count\"] != 0)]"
   ]
  },
  {
   "cell_type": "code",
   "execution_count": 23,
   "metadata": {},
   "outputs": [],
   "source": [
    "X_train, X_test, y_train, y_test = train_test_split(X_reg,\n",
    "                                                    y_reg,\n",
    "                                                    test_size=0.3,\n",
    "                                                    random_state=0)"
   ]
  },
  {
   "cell_type": "code",
   "execution_count": 38,
   "metadata": {},
   "outputs": [],
   "source": [
    "pred = model.predict(X_train)"
   ]
  },
  {
   "cell_type": "code",
   "execution_count": 2,
   "metadata": {},
   "outputs": [],
   "source": [
    "# 回帰\n",
    "model = CatBoostRegressor(num_boost_round=500,\n",
    "                           loss_function='RMSE',\n",
    "#                            early_stopping_rounds=10,\n",
    "                           )\n",
    "model.fit(X_train, y_train, eval_set=[(X_test, y_test)])\n",
    "# model.fit(X_train, y_train)\n",
    "# 確率がほしいときは predict_proba() を使う\n",
    "y_pred = model.predict(X_test)\n",
    "\n",
    "mse = mean_squared_error(y_test, y_pred)\n",
    "print('RMSE:', math.sqrt(mse))"
   ]
  },
  {
   "cell_type": "code",
   "execution_count": 43,
   "metadata": {},
   "outputs": [
    {
     "data": {
      "text/plain": [
       "['regression.pkl']"
      ]
     },
     "execution_count": 43,
     "metadata": {},
     "output_type": "execute_result"
    }
   ],
   "source": [
    "import joblib\n",
    "joblib.dump(model, \"regression.pkl\")"
   ]
  },
  {
   "cell_type": "code",
   "execution_count": 3,
   "metadata": {},
   "outputs": [],
   "source": [
    "# 分類\n",
    "model = CatBoostClassifier(num_boost_round=100,\n",
    "                           loss_function='Logloss',\n",
    "#                            early_stopping_rounds=10,\n",
    "                           )\n",
    "model.fit(X_train, y_train, eval_set=[(X_test, y_test)])\n",
    "# model.fit(X_train, y_train)\n",
    "# 確率がほしいときは predict_proba() を使う\n",
    "y_pred = model.predict(X_test)\n",
    "\n",
    "acc = accuracy_score(y_test, y_pred)\n",
    "print('Accuracy:', acc)"
   ]
  },
  {
   "cell_type": "code",
   "execution_count": 13,
   "metadata": {},
   "outputs": [],
   "source": [
    "import collections\n",
    "import itertools\n",
    "vocab = collections.Counter(list(itertools.chain.from_iterable(tokenized_sentences)))"
   ]
  }
 ],
 "metadata": {
  "kernelspec": {
   "display_name": "Python 3",
   "language": "python",
   "name": "python3"
  },
  "language_info": {
   "codemirror_mode": {
    "name": "ipython",
    "version": 3
   },
   "file_extension": ".py",
   "mimetype": "text/x-python",
   "name": "python",
   "nbconvert_exporter": "python",
   "pygments_lexer": "ipython3",
   "version": "3.8.0"
  }
 },
 "nbformat": 4,
 "nbformat_minor": 4
}
